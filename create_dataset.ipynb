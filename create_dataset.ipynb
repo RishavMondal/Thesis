{
 "cells": [
  {
   "cell_type": "code",
   "execution_count": 13,
   "id": "a8f646f9",
   "metadata": {},
   "outputs": [],
   "source": [
    "import os\n",
    "import mediapipe as mp\n",
    "import pandas as pd\n",
    "import networkx as nx\n",
    "import pickle\n",
    "import numpy as np\n",
    "import shutil\n",
    "import matplotlib.pyplot as plt\n",
    "from pandas.core.common import flatten\n",
    "import numpy as np\n",
    "import glob\n",
    "from tqdm import tqdm\n",
    "from pathlib import Path\n",
    "import json\n",
    "import random\n"
   ]
  },
  {
   "cell_type": "code",
   "execution_count": 14,
   "id": "bafde62a",
   "metadata": {},
   "outputs": [],
   "source": [
    "def data_json(dataset_path):\n",
    "    dataset = []\n",
    "    # iterate through all folders in the directory\n",
    "    for folder in glob.glob(dataset_path + '/*'):\n",
    "        for files in glob.glob(folder + '/*'):\n",
    "            # check if the file is either a folder or a json file\n",
    "            if os.path.isdir(files):\n",
    "                for data_path in glob.glob(files + '/*'):\n",
    "                    dataset.append(glob.glob(data_path + '/*.json'))\n",
    "            elif files.endswith('.json'):\n",
    "                dataset.append(files)\n",
    "    dataset = list(flatten(dataset))\n",
    "    print(\"Total json files:\", len(dataset))\n",
    "    return dataset"
   ]
  },
  {
   "cell_type": "code",
   "execution_count": 15,
   "id": "7ffe013d",
   "metadata": {},
   "outputs": [],
   "source": [
    "def sort_by_key(data,key):\n",
    "    dataset = []\n",
    "    for i in data:\n",
    "        f = open(i)\n",
    "        json_data = json.load(f)\n",
    "        if key in json_data:\n",
    "            dataset.append(i)\n",
    "        else:\n",
    "            continue\n",
    "    print(\"Json with annotazione1 present:\",len(dataset))\n",
    "    return dataset"
   ]
  },
  {
   "cell_type": "code",
   "execution_count": 16,
   "id": "f4e28806",
   "metadata": {},
   "outputs": [],
   "source": [
    "\n",
    "def get_relevant_label(data,classes_relevant,key):\n",
    "    label = []\n",
    "    dataset = []\n",
    "    for j in data:\n",
    "        f = open(j)\n",
    "        json_data = json.load(f)\n",
    "        if json_data[key] in classes_relevant:\n",
    "            dataset.append(j)\n",
    "            label.append(json_data[key])\n",
    "            \n",
    "    print(\"Number of relevant data:\",len(dataset))\n",
    "    print(\"Label:\",len(label))\n",
    "    return label,dataset\n",
    "\n"
   ]
  },
  {
   "cell_type": "code",
   "execution_count": 17,
   "id": "4243967b",
   "metadata": {},
   "outputs": [],
   "source": [
    "def data_png(dataset_path):\n",
    "    dataset = []\n",
    "    # iterate through all folders in the directory\n",
    "    for folder in glob.glob(dataset_path + '/*'):\n",
    "        for files in glob.glob(folder + '/*'):\n",
    "            # check if the file is either a folder or a json file\n",
    "            if os.path.isdir(files):\n",
    "                for data_path in glob.glob(files + '/*'):\n",
    "                    dataset.append(glob.glob(data_path + '/*.png'))\n",
    "            elif files.endswith('.png'):\n",
    "                dataset.append(files)\n",
    "    dataset = list(flatten(dataset))\n",
    "    print(\"Total json files:\", len(dataset))\n",
    "    return dataset"
   ]
  },
  {
   "cell_type": "code",
   "execution_count": 18,
   "id": "5ad39005",
   "metadata": {},
   "outputs": [],
   "source": [
    "def create_data(png_list, relevant_json):\n",
    "\n",
    "    relevant_png = []\n",
    "    \n",
    "    List = []\n",
    "    \n",
    "    for a in relevant_json:\n",
    "        a1=Path(a).stem\n",
    "        List.append(a1)\n",
    "        \n",
    "    for a in png_list:\n",
    "        if Path(a).stem in List:\n",
    "           relevant_png.append(a)\n",
    " \n",
    "    print(\"Number of relevant Pngs:\", len(relevant_png))           \n",
    " \n",
    "    return relevant_png\n"
   ]
  },
  {
   "cell_type": "code",
   "execution_count": 19,
   "id": "44ccb5ff",
   "metadata": {},
   "outputs": [],
   "source": [
    "classes = [0,1,2,3,4,5,6,7,8,9,10,11,12,13,14,15,16,17]\n",
    "classes_relevant = [5,6,7,8,9,10,11,12,14,16]\n",
    "classes_irrelevant = [0,1,2,3,4,15,17]\n",
    "labels_of_interest = ['relevant','ir-relevant']\n",
    "image_path = 'ricordi'\n",
    "key = \"annotazione1\" "
   ]
  },
  {
   "cell_type": "code",
   "execution_count": 20,
   "id": "01aa2073",
   "metadata": {},
   "outputs": [
    {
     "name": "stdout",
     "output_type": "stream",
     "text": [
      "Total json files: 276221\n",
      "Total json files: 276095\n",
      "Json with annotazione1 present: 115965\n",
      "Number of relevant data: 15491\n",
      "Label: 15491\n",
      "Number of relevant Pngs: 15491\n"
     ]
    }
   ],
   "source": [
    "json_list = data_json(image_path)\n",
    "png_list = data_png(image_path)\n",
    "sorted_list_by_key = sort_by_key(json_list,key)\n",
    "relevant_label, relevant_json= get_relevant_label(sorted_list_by_key,classes_relevant,key)\n",
    "\n",
    "relevant_png = create_data(png_list, relevant_json)\n",
    "\n"
   ]
  },
  {
   "cell_type": "code",
   "execution_count": 21,
   "id": "6b6e2cb7",
   "metadata": {},
   "outputs": [],
   "source": [
    "def plot_distribution_by_class(sorted_list_by_key, classes, key):\n",
    "    count = [0] * len(classes)  # Initialize count list with zeros\n",
    "    \n",
    "    for i in sorted_list_by_key:\n",
    "        with open(i) as f:\n",
    "            json_data = json.load(f)\n",
    "            class_index = json_data[key]\n",
    "            count[class_index] += 1\n",
    "    \n",
    "    print(count)\n",
    "    \n",
    "    plt.figure(figsize=(10, 6))  # Set the size of the figure\n",
    "    \n",
    "    x = np.arange(len(classes))  # Generate an array of class indices\n",
    "    plt.bar(x, count)\n",
    "    plt.xticks(x, classes)  # Set custom x-axis tick positions and labels\n",
    "    plt.xlabel(\"Classes\")\n",
    "    plt.ylabel(\"Count\")\n",
    "    plt.title(\"Class Count\")\n",
    "    plt.show()\n"
   ]
  },
  {
   "cell_type": "code",
   "execution_count": 22,
   "id": "4bc54aec",
   "metadata": {},
   "outputs": [],
   "source": [
    "def plot_distribution_by_relevant(num_r, num_ir):\n",
    "    names = ['relevant', 'irrelevant']\n",
    "    bar_list = [num_r, num_ir]\n",
    "    plt.rcParams[\"figure.figsize\"] = (8,10.5)\n",
    "    plt.rcParams.update({'font.size': 35})\n",
    "    plt.bar(names, bar_list, width = .5)\n",
    "    plt.xticks(names)\n",
    "    plt.yticks(bar_list)\n",
    "    plt.xlabel('Dataset', fontsize=35)\n",
    "    plt.ylabel('Distribution', fontsize=35)\n",
    "    plt.show()\n"
   ]
  },
  {
   "cell_type": "code",
   "execution_count": 23,
   "id": "c8cb127f",
   "metadata": {},
   "outputs": [
    {
     "name": "stdout",
     "output_type": "stream",
     "text": [
      "[62250, 9085, 7901, 4096, 9960, 143, 1460, 2353, 455, 293, 1482, 3277, 440, 0, 4814, 871, 774, 6311]\n"
     ]
    },
    {
     "data": {
      "image/png": "[encoded data removed]",
      "text/plain": [
       "<Figure size 720x432 with 1 Axes>"
      ]
     },
     "metadata": {
      "needs_background": "light"
     },
     "output_type": "display_data"
    },
    {
     "name": "stdout",
     "output_type": "stream",
     "text": [
      "Number of irrelevant pngs: 100474\n"
     ]
    },
    {
     "data": {
      "image/png": "[encoded data removed]",
      "text/plain": [
       "<Figure size 576x756 with 1 Axes>"
      ]
     },
     "metadata": {
      "needs_background": "light"
     },
     "output_type": "display_data"
    }
   ],
   "source": [
    "plot_distribution_by_class(sorted_list_by_key,classes,key)\n",
    "num_ir = len(sorted_list_by_key) - len(relevant_png)\n",
    "print(\"Number of irrelevant pngs:\",num_ir)\n",
    "plot_distribution_by_relevant(len(relevant_png), num_ir)"
   ]
  },
  {
   "cell_type": "code",
   "execution_count": 10,
   "id": "57293a3f",
   "metadata": {},
   "outputs": [],
   "source": [
    "\n",
    "for label in classes_irrelevant:\n",
    "    folder_name = str(label)\n",
    "    if not os.path.exists(folder_name):\n",
    "        os.mkdir(folder_name)\n",
    "  \n",
    "    for json_path in sorted_list_by_key:\n",
    "            with open(json_path) as f:\n",
    "                data = json.load(f)\n",
    "                if data[key] == label:\n",
    "                    basename = os.path.splitext(os.path.basename(json_path))[0]\n",
    "                    png_path = os.path.join(os.path.dirname(json_path), basename + \".png\")\n",
    "                    if os.path.exists(png_path):\n",
    "                        shutil.copy(png_path, folder_name)\n"
   ]
  },
  {
   "cell_type": "code",
   "execution_count": 20,
   "id": "986c31bd",
   "metadata": {},
   "outputs": [
    {
     "name": "stdout",
     "output_type": "stream",
     "text": [
      "9960\n",
      "Selected files copied to the destination folder.\n"
     ]
    }
   ],
   "source": [
    "source_dataset_path = \"./0\"  # Replace with the path to the source dataset\n",
    "destination_folder_path = \"00\"  # Replace with the desired path for the destination folder\n",
    "\n",
    "if not os.path.exists(destination_folder_path):\n",
    "    os.mkdir(destination_folder_path)\n",
    "    \n",
    "# Get the list of files in the source dataset\n",
    "file_list = os.listdir(source_dataset_path)\n",
    "\n",
    "num_files = len(os.listdir(\"./4\"))\n",
    "print(num_files)\n",
    "\n",
    "# Randomly select num_files from the file list\n",
    "selected_files = random.sample(file_list, num_files)\n",
    "\n",
    "# Copy the selected files to the destination folder\n",
    "for file_name in selected_files:\n",
    "    source_file_path = os.path.join(source_dataset_path, file_name)\n",
    "    destination_file_path = os.path.join(destination_folder_path, file_name)\n",
    "    shutil.copy2(source_file_path, destination_file_path)\n",
    "\n",
    "print(\"Selected files copied to the destination folder.\")"
   ]
  },
  {
   "cell_type": "code",
   "execution_count": 12,
   "id": "f8c8b221",
   "metadata": {},
   "outputs": [
    {
     "name": "stdout",
     "output_type": "stream",
     "text": [
      "Number of files in the folder: 15491\n"
     ]
    }
   ],
   "source": [
    "folder_path = \"./binary_Dataset/Sub-Sample Irrelevant\"  # Replace with the actual path to the folder\n",
    "if not os.path.exists(folder_path):\n",
    "    os.mkdir(folder_path)\n",
    "# Get the list of files in the folder\n",
    "file_list = os.listdir(folder_path)\n",
    "count = [0] * len(classes)  # Initialize count list with zeros\n",
    "\n",
    "for f in file_list:\n",
    "    basename = os.path.splitext(os.path.basename(f))[0]\n",
    "        \n",
    "    for i in sorted_list_by_key:\n",
    "        jsonname = os.path.splitext(os.path.basename(i))[0]\n",
    "        \n",
    "        if basename == jsonname:\n",
    "            with open(i) as f:\n",
    "                json_data = json.load(f)\n",
    "                class_index = json_data[key]\n",
    "                count[class_index] += 1\n",
    "                \n",
    "# Count the number of files\n",
    "print\n",
    "print(\"Number of files in the folder:\", num_files)\n"
   ]
  },
  {
   "cell_type": "code",
   "execution_count": 11,
   "id": "ecc14bc5",
   "metadata": {},
   "outputs": [],
   "source": [
    "count = 0\n",
    "\n",
    "for label in labels_of_interest:\n",
    "    folder_name = str(label)\n",
    "    if not os.path.exists(folder_name):\n",
    "        os.mkdir(folder_name)\n",
    "    \n",
    "    if label == 'relevant':\n",
    "        for json_path in sorted_list_by_key:\n",
    "            with open(json_path) as f:\n",
    "                data = json.load(f)\n",
    "                if data[key] in classes_relevant:\n",
    "                    basename = os.path.splitext(os.path.basename(json_path))[0]\n",
    "                    png_path = os.path.join(os.path.dirname(json_path), basename + \".png\")\n",
    "                    if os.path.exists(png_path):\n",
    "                        shutil.copy(png_path, folder_name)\n",
    "    \n",
    "    else :\n",
    "\n",
    "        for label in classes_irrelevant:\n",
    "\n",
    "\n",
    "            samples_count = 0\n",
    "            for json_path in sorted_list_by_key:\n",
    "                with open(json_path) as f:\n",
    "                    data = json.load(f)\n",
    "                    if data[key] == int(label):\n",
    "                        basename = os.path.splitext(os.path.basename(json_path))[0]\n",
    "                        png_path = os.path.join(os.path.dirname(json_path), basename + \".png\")\n",
    "                        if os.path.exists(png_path):\n",
    "                            shutil.copy(png_path, folder_name)\n",
    "                            samples_count += 1\n",
    "\n",
    "                if samples_count >= 2582:\n",
    "                    break\n",
    "\n",
    "\n"
   ]
  },
  {
   "cell_type": "code",
   "execution_count": 11,
   "id": "f69e2ac6",
   "metadata": {},
   "outputs": [],
   "source": [
    "import os\n",
    "import random\n",
    "\n",
    "# Set the path to the folder you want to clean up\n",
    "path_to_folder = \"./0\"\n",
    "\n",
    "# Set the number of files you want to keep\n",
    "num_files_to_keep = 9960\n",
    "\n",
    "# Get a list of all files in the folder\n",
    "files = [os.path.join(path_to_folder, f) for f in os.listdir(path_to_folder)]\n",
    "files = [f for f in files if os.path.isfile(f)]\n",
    "\n",
    "# Randomly select num_files_to_keep files to keep\n",
    "files_to_keep = random.sample(files, num_files_to_keep)\n",
    "\n",
    "# Delete all files except the files selected to keep\n",
    "for f in files:\n",
    "    if f not in files_to_keep:\n",
    "        os.remove(f)\n"
   ]
  },
  {
   "cell_type": "code",
   "execution_count": 24,
   "id": "d4405a30",
   "metadata": {},
   "outputs": [],
   "source": [
    "import random\n",
    "\n",
    "# Define the classes and the maximum number of samples per class\n",
    "max_samples_per_class = 2437\n",
    "\n",
    "# Shuffle the list of JSON paths\n",
    "random.shuffle(sorted_list_by_key)\n",
    "\n",
    "# Create the folders and assign the samples\n",
    "for label in classes_irrelevant:\n",
    "    folder_name = str(label)\n",
    "    if not os.path.exists(folder_name):\n",
    "        os.mkdir(folder_name)\n",
    "\n",
    "    samples_count = 0\n",
    "    for json_path in sorted_list_by_key:\n",
    "        with open(json_path) as f:\n",
    "            data = json.load(f)\n",
    "            if data[key] == int(label):\n",
    "                basename = os.path.splitext(os.path.basename(json_path))[0]\n",
    "                png_path = os.path.join(os.path.dirname(json_path), basename + \".png\")\n",
    "                if os.path.exists(png_path):\n",
    "                    shutil.copy(png_path, folder_name)\n",
    "                    samples_count += 1\n",
    "\n",
    "        if samples_count >= max_samples_per_class:\n",
    "            break\n"
   ]
  },
  {
   "cell_type": "code",
   "execution_count": 5,
   "id": "32923d4c",
   "metadata": {},
   "outputs": [
    {
     "name": "stdout",
     "output_type": "stream",
     "text": [
      "Deleted the folder: 8\n"
     ]
    }
   ],
   "source": [
    "import os\n",
    "import shutil\n",
    "\n",
    "def delete_smallest_folder(directory):\n",
    "    # Get a list of all folders in the directory\n",
    "    folders = [f for f in os.listdir(directory) if os.path.isdir(os.path.join(directory, f))]\n",
    "\n",
    "    if len(folders) == 0:\n",
    "        print(\"No folders found in the directory.\")\n",
    "        return\n",
    "\n",
    "    # Get the folder with the smallest number of files\n",
    "    smallest_folder = min(folders, key=lambda folder: len(os.listdir(os.path.join(directory, folder))))\n",
    "\n",
    "    # Delete the smallest folder\n",
    "    folder_path = os.path.join(directory, smallest_folder)\n",
    "    shutil.rmtree(folder_path)\n",
    "    print(f\"Deleted the folder: {smallest_folder}\")\n",
    "\n",
    "# Specify the directory containing the folders\n",
    "directory_path = './only_relevant_dataset'\n",
    "\n",
    "delete_smallest_folder(directory_path)\n",
    "\n",
    "\n"
   ]
  },
  {
   "cell_type": "code",
   "execution_count": null,
   "id": "b159a951",
   "metadata": {},
   "outputs": [],
   "source": []
  }
 ],
 "metadata": {
  "kernelspec": {
   "display_name": "Python 3 (ipykernel)",
   "language": "python",
   "name": "python3"
  },
  "language_info": {
   "codemirror_mode": {
    "name": "ipython",
    "version": 3
   },
   "file_extension": ".py",
   "mimetype": "text/x-python",
   "name": "python",
   "nbconvert_exporter": "python",
   "pygments_lexer": "ipython3",
   "version": "3.10.10"
  }
 },
 "nbformat": 4,
 "nbformat_minor": 5
}
