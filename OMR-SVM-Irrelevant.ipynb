{
 "cells": [
  {
   "cell_type": "code",
   "execution_count": 1,
   "id": "b992f76a",
   "metadata": {},
   "outputs": [],
   "source": [
    "\n",
    "import seaborn as sn\n",
    "import fnmatch\n",
    "import torch.nn.functional as F\n",
    "import torch.optim as optim\n",
    "from torch.optim import lr_scheduler\n",
    "from torch.utils import data\n",
    "import numpy as np\n",
    "import torchvision\n",
    "from  numpy import exp,absolute\n",
    "from torchvision import datasets, transforms\n",
    "import matplotlib.pyplot as plt\n",
    "import time\n",
    "import os\n",
    "import copy\n",
    "import math\n",
    "from sklearn.svm import SVC \n",
    "from sklearn.neural_network import MLPClassifier as mlp\n",
    "import torch\n",
    "import torch.nn as nn\n",
    "import torchvision.models as models\n",
    "import pandas as pd\n",
    "from sklearn.dummy import DummyClassifier\n",
    "from sklearn.metrics import balanced_accuracy_score \n",
    "from sklearn.metrics import confusion_matrix, ConfusionMatrixDisplay\n",
    "from sklearn.metrics import classification_report\n",
    "from sklearn.model_selection import StratifiedShuffleSplit\n",
    "from sklearn.decomposition import PCA\n",
    "import os\n",
    "import numpy as np\n",
    "from skimage.io import imread\n",
    "from skimage.transform import resize\n",
    "from sklearn.model_selection import train_test_split\n",
    "from tqdm import tqdm\n",
    "from sklearn.model_selection import StratifiedShuffleSplit\n",
    "from sklearn.metrics import accuracy_score\n",
    "from joblib import Parallel, delayed\n",
    "from sklearn.model_selection import StratifiedKFold\n"
   ]
  },
  {
   "cell_type": "code",
   "execution_count": 7,
   "id": "0526d9ca",
   "metadata": {},
   "outputs": [],
   "source": [
    "dataset_path = './Irrelevant_Balanced'\n",
    "classes = [0,1,17,2,3,4] #arranged in order of their placement in the folder\n",
    "num_classes = len(classes)\n",
    "test_size = 0.25  # Test set size (20%)\n"
   ]
  },
  {
   "cell_type": "code",
   "execution_count": 8,
   "id": "080d5cac",
   "metadata": {},
   "outputs": [],
   "source": [
    "image_paths = []\n",
    "labels = []\n",
    "\n",
    "for folder_name in os.listdir(dataset_path):\n",
    "    folder_path = os.path.join(dataset_path, folder_name)\n",
    "    if os.path.isdir(folder_path):\n",
    "        for image_name in os.listdir(folder_path):\n",
    "            image_path = os.path.join(folder_path, image_name)\n",
    "            image_paths.append(image_path)\n",
    "            labels.append(folder_name)\n",
    "\n",
    "# Step 2: Preprocess the images and extract features\n",
    "features = []\n",
    "for image_path in image_paths:\n",
    "    image = imread(image_path, as_gray=True)  # Read the image as grayscale\n",
    "    image = resize(image, (30, 30))  # Resize to a consistent size\n",
    "    image_vector = image.flatten()  # Convert 2D image to 1D feature vector\n",
    "    features.append(image_vector)\n",
    "\n",
    "# Convert the features and labels to numpy arrays\n",
    "X = np.array(features)\n",
    "y = np.array(labels)\n",
    "\n",
    "\n",
    "pca = PCA(n_components=6)  # Specify the desired number of components\n",
    "X = pca.fit_transform(X)\n",
    "\n",
    "# Step 4: Split the dataset using stratified shuffle split\n",
    "stratified_shuffle_split = StratifiedShuffleSplit(n_splits=1, test_size=test_size, random_state=42)\n",
    "train_indices, test_indices = next(stratified_shuffle_split.split(X, y))\n",
    "\n",
    "X_train, X_test = X[train_indices], X[test_indices]\n",
    "y_train, y_test = y[train_indices], y[test_indices]"
   ]
  },
  {
   "cell_type": "code",
   "execution_count": 7,
   "id": "459977c8",
   "metadata": {},
   "outputs": [
    {
     "name": "stdout",
     "output_type": "stream",
     "text": [
      "['14' '14' '11' '14' '7' '10' '14' '14' '14' '7']\n"
     ]
    }
   ],
   "source": [
    "print(y_train[:10])"
   ]
  },
  {
   "cell_type": "code",
   "execution_count": 4,
   "id": "f4b05551",
   "metadata": {},
   "outputs": [
    {
     "name": "stdout",
     "output_type": "stream",
     "text": [
      "10620 3540\n"
     ]
    }
   ],
   "source": [
    "print(len(X_train),len(X_test))"
   ]
  },
  {
   "cell_type": "code",
   "execution_count": 9,
   "id": "a97d1e6d",
   "metadata": {},
   "outputs": [
    {
     "name": "stderr",
     "output_type": "stream",
     "text": [
      "\n",
      "Training Progress:   4%|██▎                                                         | 38/1000 [04:02<1:42:09,  6.37s/it]\u001b[A\n",
      "\n",
      "Training Progress:   0%|                                                                       | 0/1000 [00:00<?, ?it/s]\u001b[A\n",
      "Training Progress:   0%|▏                                                              | 3/1000 [00:00<00:35, 28.31it/s]\u001b[A\n",
      "Training Progress:   1%|▍                                                              | 6/1000 [00:00<00:43, 22.68it/s]\u001b[A\n",
      "Training Progress:   1%|▌                                                              | 9/1000 [00:00<00:59, 16.73it/s]\u001b[A\n",
      "Training Progress:   1%|▋                                                             | 11/1000 [00:00<01:04, 15.30it/s]\u001b[A\n",
      "Training Progress:   1%|▊                                                             | 13/1000 [00:00<01:08, 14.36it/s]\u001b[A\n",
      "Training Progress:   2%|▉                                                             | 15/1000 [00:00<01:05, 15.08it/s]\u001b[A\n",
      "Training Progress:   2%|█                                                             | 18/1000 [00:01<00:56, 17.34it/s]\u001b[A\n",
      "Training Progress:   2%|█▏                                                            | 20/1000 [00:01<00:55, 17.56it/s]\u001b[A\n",
      "Training Progress:   2%|█▍                                                            | 23/1000 [00:01<00:51, 18.86it/s]\u001b[A\n",
      "Training Progress:   2%|█▌                                                            | 25/1000 [00:01<00:57, 16.99it/s]\u001b[A\n",
      "Training Progress:   3%|█▋                                                            | 28/1000 [00:01<00:51, 18.70it/s]\u001b[A\n",
      "Training Progress:   3%|█▉                                                            | 31/1000 [00:01<00:48, 19.92it/s]\u001b[A\n",
      "Training Progress:   3%|██                                                            | 34/1000 [00:01<00:46, 20.75it/s]\u001b[A\n",
      "Training Progress:   4%|██▎                                                           | 37/1000 [00:01<00:45, 21.36it/s]\u001b[A\n",
      "Training Progress:   4%|██▍                                                           | 40/1000 [00:02<00:47, 20.15it/s]\u001b[A\n",
      "Training Progress:   4%|██▋                                                           | 43/1000 [00:02<00:45, 20.85it/s]\u001b[A\n",
      "Training Progress:   5%|██▊                                                           | 46/1000 [00:02<00:45, 20.86it/s]\u001b[A\n",
      "Training Progress:   5%|███                                                           | 49/1000 [00:02<00:46, 20.32it/s]\u001b[A\n",
      "Training Progress:   5%|███▏                                                          | 52/1000 [00:02<00:45, 20.91it/s]\u001b[A\n",
      "Training Progress:   6%|███▍                                                          | 55/1000 [00:02<00:44, 21.20it/s]\u001b[A\n",
      "Training Progress:   6%|███▌                                                          | 58/1000 [00:03<00:45, 20.93it/s]\u001b[A\n",
      "Training Progress:   6%|███▊                                                          | 61/1000 [00:03<00:44, 21.07it/s]\u001b[A\n",
      "Training Progress:   6%|███▉                                                          | 64/1000 [00:03<00:43, 21.48it/s]\u001b[A\n",
      "Training Progress:   7%|████▏                                                         | 67/1000 [00:03<00:44, 21.10it/s]\u001b[A\n",
      "Training Progress:   7%|████▎                                                         | 70/1000 [00:03<00:43, 21.50it/s]\u001b[A\n",
      "Training Progress:   7%|████▌                                                         | 73/1000 [00:03<00:42, 21.89it/s]\u001b[A\n",
      "Training Progress:   8%|████▋                                                         | 76/1000 [00:03<00:41, 22.01it/s]\u001b[A\n",
      "Training Progress:   8%|████▉                                                         | 79/1000 [00:03<00:41, 22.14it/s]\u001b[A\n",
      "Training Progress:   8%|█████                                                         | 82/1000 [00:04<00:41, 22.13it/s]\u001b[A\n",
      "Training Progress:   8%|█████▎                                                        | 85/1000 [00:04<00:41, 22.07it/s]\u001b[A\n",
      "Training Progress:   9%|█████▍                                                        | 88/1000 [00:04<00:40, 22.30it/s]\u001b[A\n",
      "Training Progress:   9%|█████▋                                                        | 91/1000 [00:04<00:40, 22.46it/s]\u001b[A\n",
      "Training Progress:   9%|█████▊                                                        | 94/1000 [00:04<00:40, 22.28it/s]\u001b[A\n",
      "Training Progress:  10%|██████                                                        | 97/1000 [00:04<00:40, 22.10it/s]\u001b[A\n",
      "Training Progress:  10%|██████                                                       | 100/1000 [00:04<00:40, 22.16it/s]\u001b[A\n",
      "Training Progress:  10%|██████▎                                                      | 103/1000 [00:05<00:40, 22.22it/s]\u001b[A\n",
      "Training Progress:  11%|██████▍                                                      | 106/1000 [00:05<00:40, 21.90it/s]\u001b[A\n",
      "Training Progress:  11%|██████▋                                                      | 109/1000 [00:05<00:40, 21.98it/s]\u001b[A\n",
      "Training Progress:  11%|██████▊                                                      | 112/1000 [00:05<00:41, 21.29it/s]\u001b[A\n",
      "Training Progress:  12%|███████                                                      | 115/1000 [00:05<00:40, 21.75it/s]\u001b[A\n",
      "Training Progress:  12%|███████▏                                                     | 118/1000 [00:05<00:40, 22.03it/s]\u001b[A\n",
      "Training Progress:  12%|███████▍                                                     | 121/1000 [00:05<00:39, 22.26it/s]\u001b[A\n",
      "Training Progress:  12%|███████▌                                                     | 124/1000 [00:06<00:40, 21.84it/s]\u001b[A\n",
      "Training Progress:  13%|███████▋                                                     | 127/1000 [00:06<00:46, 18.90it/s]\u001b[A\n",
      "Training Progress:  13%|███████▊                                                     | 129/1000 [00:06<00:45, 18.95it/s]\u001b[A\n",
      "Training Progress:  13%|████████                                                     | 132/1000 [00:06<00:43, 20.09it/s]\u001b[A\n",
      "Training Progress:  14%|████████▏                                                    | 135/1000 [00:06<00:42, 20.44it/s]\u001b[A\n",
      "Training Progress:  14%|████████▍                                                    | 138/1000 [00:06<00:42, 20.32it/s]\u001b[A\n",
      "Training Progress:  14%|████████▌                                                    | 141/1000 [00:06<00:40, 21.05it/s]\u001b[A\n",
      "Training Progress:  14%|████████▊                                                    | 144/1000 [00:07<00:39, 21.53it/s]\u001b[A\n",
      "Training Progress:  15%|████████▉                                                    | 147/1000 [00:07<00:38, 21.92it/s]\u001b[A\n",
      "Training Progress:  15%|█████████▏                                                   | 150/1000 [00:07<00:38, 21.94it/s]\u001b[A\n",
      "Training Progress:  15%|█████████▎                                                   | 153/1000 [00:07<00:38, 22.24it/s]\u001b[A\n",
      "Training Progress:  16%|█████████▌                                                   | 156/1000 [00:07<00:38, 22.16it/s]\u001b[A\n",
      "Training Progress:  16%|█████████▋                                                   | 159/1000 [00:07<00:37, 22.31it/s]\u001b[A\n",
      "Training Progress:  16%|█████████▉                                                   | 162/1000 [00:07<00:37, 22.44it/s]\u001b[A\n",
      "Training Progress:  16%|██████████                                                   | 165/1000 [00:07<00:37, 22.40it/s]\u001b[A\n",
      "Training Progress:  17%|██████████▏                                                  | 168/1000 [00:08<00:37, 22.10it/s]\u001b[A\n",
      "Training Progress:  17%|██████████▍                                                  | 171/1000 [00:08<00:38, 21.74it/s]\u001b[A\n",
      "Training Progress:  17%|██████████▌                                                  | 174/1000 [00:08<00:37, 21.82it/s]\u001b[A\n",
      "Training Progress:  18%|██████████▊                                                  | 177/1000 [00:08<00:37, 22.06it/s]\u001b[A\n",
      "Training Progress:  18%|██████████▉                                                  | 180/1000 [00:08<00:38, 21.51it/s]\u001b[A\n",
      "Training Progress:  18%|███████████▏                                                 | 183/1000 [00:08<00:37, 21.61it/s]\u001b[A\n",
      "Training Progress:  19%|███████████▎                                                 | 186/1000 [00:08<00:37, 21.63it/s]\u001b[A\n",
      "Training Progress:  19%|███████████▌                                                 | 189/1000 [00:09<00:37, 21.67it/s]\u001b[A\n",
      "Training Progress:  19%|███████████▋                                                 | 192/1000 [00:09<00:37, 21.79it/s]\u001b[A\n",
      "Training Progress:  20%|███████████▉                                                 | 195/1000 [00:09<00:36, 21.83it/s]\u001b[A\n",
      "Training Progress:  20%|████████████                                                 | 198/1000 [00:09<00:36, 21.99it/s]\u001b[A\n",
      "Training Progress:  20%|████████████▎                                                | 201/1000 [00:09<00:36, 21.94it/s]\u001b[A\n",
      "Training Progress:  20%|████████████▍                                                | 204/1000 [00:09<00:36, 21.98it/s]\u001b[A\n",
      "Training Progress:  21%|████████████▋                                                | 207/1000 [00:09<00:35, 22.05it/s]\u001b[A\n",
      "Training Progress:  21%|████████████▊                                                | 210/1000 [00:09<00:35, 22.00it/s]\u001b[A\n",
      "Training Progress:  21%|████████████▉                                                | 213/1000 [00:10<00:35, 21.98it/s]\u001b[A\n",
      "Training Progress:  22%|█████████████▏                                               | 216/1000 [00:10<00:35, 21.95it/s]\u001b[A\n",
      "Training Progress:  22%|█████████████▎                                               | 219/1000 [00:10<00:35, 22.03it/s]\u001b[A\n",
      "Training Progress:  22%|█████████████▌                                               | 222/1000 [00:10<00:35, 21.96it/s]\u001b[A\n",
      "Training Progress:  22%|█████████████▋                                               | 225/1000 [00:10<00:35, 21.80it/s]\u001b[A\n",
      "Training Progress:  23%|█████████████▉                                               | 228/1000 [00:10<00:35, 21.79it/s]\u001b[A\n",
      "Training Progress:  23%|██████████████                                               | 231/1000 [00:10<00:35, 21.75it/s]\u001b[A\n",
      "Training Progress:  23%|██████████████▎                                              | 234/1000 [00:11<00:35, 21.80it/s]\u001b[A\n",
      "Training Progress:  24%|██████████████▍                                              | 237/1000 [00:11<00:35, 21.63it/s]\u001b[A\n",
      "Training Progress:  24%|██████████████▋                                              | 240/1000 [00:11<00:36, 20.77it/s]\u001b[A\n",
      "Training Progress:  24%|██████████████▊                                              | 243/1000 [00:11<00:36, 21.00it/s]\u001b[A\n",
      "Training Progress:  25%|███████████████                                              | 246/1000 [00:11<00:35, 21.18it/s]\u001b[A\n",
      "Training Progress:  25%|███████████████▏                                             | 249/1000 [00:11<00:34, 21.49it/s]\u001b[A\n",
      "Training Progress:  25%|███████████████▎                                             | 252/1000 [00:11<00:34, 21.80it/s]\u001b[A\n",
      "Training Progress:  26%|███████████████▌                                             | 255/1000 [00:12<00:34, 21.47it/s]\u001b[A\n",
      "Training Progress:  26%|███████████████▋                                             | 258/1000 [00:12<00:41, 17.98it/s]\u001b[A\n",
      "Training Progress:  26%|███████████████▊                                             | 260/1000 [00:12<00:44, 16.45it/s]\u001b[A\n",
      "Training Progress:  26%|███████████████▉                                             | 262/1000 [00:12<00:47, 15.42it/s]\u001b[A\n",
      "Training Progress:  26%|████████████████                                             | 264/1000 [00:12<00:50, 14.67it/s]\u001b[A\n",
      "Training Progress:  27%|████████████████▏                                            | 266/1000 [00:12<00:52, 13.85it/s]\u001b[A\n",
      "Training Progress:  27%|████████████████▎                                            | 268/1000 [00:13<00:53, 13.60it/s]\u001b[A\n",
      "Training Progress:  27%|████████████████▍                                            | 270/1000 [00:13<00:49, 14.69it/s]\u001b[A\n",
      "Training Progress:  27%|████████████████▌                                            | 272/1000 [00:13<00:46, 15.73it/s]\u001b[A\n",
      "Training Progress:  28%|████████████████▊                                            | 275/1000 [00:13<00:41, 17.41it/s]\u001b[A\n",
      "Training Progress:  28%|████████████████▉                                            | 277/1000 [00:13<00:40, 17.89it/s]\u001b[A\n",
      "Training Progress:  28%|█████████████████                                            | 280/1000 [00:13<00:37, 19.26it/s]\u001b[A\n",
      "Training Progress:  28%|█████████████████▎                                           | 283/1000 [00:13<00:35, 20.02it/s]\u001b[A\n",
      "Training Progress:  29%|█████████████████▍                                           | 286/1000 [00:13<00:34, 20.68it/s]\u001b[A\n",
      "Training Progress:  29%|█████████████████▋                                           | 289/1000 [00:14<00:34, 20.90it/s]\u001b[A\n",
      "Training Progress:  29%|█████████████████▊                                           | 292/1000 [00:14<00:33, 21.32it/s]\u001b[A\n",
      "Training Progress:  30%|█████████████████▉                                           | 295/1000 [00:14<00:34, 20.51it/s]\u001b[A\n",
      "Training Progress:  30%|██████████████████▏                                          | 298/1000 [00:14<00:33, 21.10it/s]\u001b[A\n",
      "Training Progress:  30%|██████████████████▎                                          | 301/1000 [00:14<00:33, 20.90it/s]\u001b[A\n",
      "Training Progress:  30%|██████████████████▌                                          | 304/1000 [00:14<00:32, 21.40it/s]\u001b[A\n",
      "Training Progress:  31%|██████████████████▋                                          | 307/1000 [00:14<00:33, 20.95it/s]\u001b[A\n",
      "Training Progress:  31%|██████████████████▉                                          | 310/1000 [00:15<00:32, 21.01it/s]\u001b[A\n",
      "Training Progress:  31%|███████████████████                                          | 313/1000 [00:15<00:33, 20.74it/s]\u001b[A\n",
      "Training Progress:  32%|███████████████████▎                                         | 316/1000 [00:15<00:32, 21.13it/s]\u001b[A\n",
      "Training Progress:  32%|███████████████████▍                                         | 319/1000 [00:15<00:31, 21.54it/s]\u001b[A\n",
      "Training Progress:  32%|███████████████████▋                                         | 322/1000 [00:15<00:31, 21.62it/s]\u001b[A\n",
      "Training Progress:  32%|███████████████████▊                                         | 325/1000 [00:15<00:31, 21.71it/s]\u001b[A\n",
      "Training Progress:  33%|████████████████████                                         | 328/1000 [00:15<00:31, 21.15it/s]\u001b[A\n",
      "Training Progress:  33%|████████████████████▏                                        | 331/1000 [00:16<00:31, 21.13it/s]\u001b[A\n",
      "Training Progress:  33%|████████████████████▎                                        | 334/1000 [00:16<00:31, 21.15it/s]\u001b[A\n",
      "Training Progress:  34%|████████████████████▌                                        | 337/1000 [00:16<00:31, 21.35it/s]\u001b[A\n",
      "Training Progress:  34%|████████████████████▋                                        | 340/1000 [00:16<00:30, 21.38it/s]\u001b[A\n",
      "Training Progress:  34%|████████████████████▉                                        | 343/1000 [00:16<00:30, 21.44it/s]\u001b[A\n",
      "Training Progress:  35%|█████████████████████                                        | 346/1000 [00:16<00:30, 21.52it/s]\u001b[A\n",
      "Training Progress:  35%|█████████████████████▎                                       | 349/1000 [00:16<00:31, 20.70it/s]\u001b[A\n",
      "Training Progress:  35%|█████████████████████▍                                       | 352/1000 [00:17<00:31, 20.87it/s]\u001b[A\n",
      "Training Progress:  36%|█████████████████████▋                                       | 355/1000 [00:17<00:30, 21.29it/s]\u001b[A\n",
      "Training Progress:  36%|█████████████████████▊                                       | 358/1000 [00:17<00:29, 21.54it/s]\u001b[A\n",
      "Training Progress:  36%|██████████████████████                                       | 361/1000 [00:17<00:29, 21.30it/s]\u001b[A\n",
      "Training Progress:  36%|██████████████████████▏                                      | 364/1000 [00:17<00:29, 21.65it/s]\u001b[A\n",
      "Training Progress:  37%|██████████████████████▍                                      | 367/1000 [00:17<00:28, 21.93it/s]\u001b[A\n",
      "Training Progress:  37%|██████████████████████▌                                      | 370/1000 [00:17<00:28, 22.16it/s]\u001b[A\n",
      "Training Progress:  37%|██████████████████████▊                                      | 373/1000 [00:18<00:28, 22.32it/s]\u001b[A\n",
      "Training Progress:  38%|██████████████████████▉                                      | 376/1000 [00:18<00:28, 22.08it/s]\u001b[A\n",
      "Training Progress:  38%|███████████████████████                                      | 379/1000 [00:18<00:29, 21.07it/s]\u001b[A\n",
      "Training Progress:  38%|███████████████████████▎                                     | 382/1000 [00:18<00:29, 21.27it/s]\u001b[A\n",
      "Training Progress:  38%|███████████████████████▍                                     | 385/1000 [00:18<00:33, 18.12it/s]\u001b[A\n",
      "Training Progress:  39%|███████████████████████▋                                     | 388/1000 [00:18<00:32, 18.70it/s]\u001b[A\n",
      "Training Progress:  39%|███████████████████████▊                                     | 390/1000 [00:19<00:36, 16.83it/s]\u001b[A\n",
      "Training Progress:  39%|███████████████████████▉                                     | 392/1000 [00:19<00:35, 17.21it/s]\u001b[A\n",
      "Training Progress:  40%|████████████████████████                                     | 395/1000 [00:19<00:32, 18.76it/s]\u001b[A\n",
      "Training Progress:  40%|████████████████████████▏                                    | 397/1000 [00:19<00:35, 16.83it/s]\u001b[A\n",
      "Training Progress:  40%|████████████████████████▍                                    | 400/1000 [00:19<00:32, 18.28it/s]\u001b[A\n",
      "Training Progress:  40%|████████████████████████▌                                    | 403/1000 [00:19<00:30, 19.27it/s]\u001b[A\n",
      "Training Progress:  41%|████████████████████████▊                                    | 406/1000 [00:19<00:29, 19.91it/s]\u001b[A\n",
      "Training Progress:  41%|████████████████████████▉                                    | 409/1000 [00:19<00:28, 20.66it/s]\u001b[A\n",
      "Training Progress:  41%|█████████████████████████▏                                   | 412/1000 [00:20<00:28, 20.85it/s]\u001b[A\n",
      "Training Progress:  42%|█████████████████████████▎                                   | 415/1000 [00:20<00:28, 20.88it/s]\u001b[A\n",
      "Training Progress:  42%|█████████████████████████▍                                   | 418/1000 [00:20<00:28, 20.65it/s]\u001b[A\n",
      "Training Progress:  42%|█████████████████████████▋                                   | 421/1000 [00:20<00:28, 20.65it/s]\u001b[A\n",
      "Training Progress:  42%|█████████████████████████▊                                   | 424/1000 [00:20<00:27, 20.80it/s]\u001b[A\n",
      "Training Progress:  43%|██████████████████████████                                   | 427/1000 [00:20<00:27, 21.20it/s]\u001b[A\n",
      "Training Progress:  43%|██████████████████████████▏                                  | 430/1000 [00:20<00:26, 21.54it/s]\u001b[A\n",
      "Training Progress:  43%|██████████████████████████▍                                  | 433/1000 [00:21<00:26, 21.54it/s]\u001b[A\n",
      "Training Progress:  44%|██████████████████████████▌                                  | 436/1000 [00:21<00:26, 21.45it/s]\u001b[A\n",
      "Training Progress:  44%|██████████████████████████▊                                  | 439/1000 [00:21<00:28, 19.70it/s]\u001b[A\n",
      "Training Progress:  44%|██████████████████████████▉                                  | 441/1000 [00:21<00:31, 17.58it/s]\u001b[A\n",
      "Training Progress:  44%|███████████████████████████                                  | 443/1000 [00:21<00:33, 16.88it/s]\u001b[A\n",
      "Training Progress:  45%|███████████████████████████▏                                 | 446/1000 [00:21<00:30, 18.20it/s]\u001b[A\n",
      "Training Progress:  45%|███████████████████████████▍                                 | 449/1000 [00:21<00:28, 19.30it/s]\u001b[A\n",
      "Training Progress:  45%|███████████████████████████▌                                 | 451/1000 [00:22<00:29, 18.89it/s]\u001b[A\n",
      "Training Progress:  45%|███████████████████████████▋                                 | 453/1000 [00:22<00:28, 19.01it/s]\u001b[A\n",
      "Training Progress:  46%|███████████████████████████▊                                 | 455/1000 [00:22<00:28, 19.19it/s]\u001b[A\n",
      "Training Progress:  46%|███████████████████████████▉                                 | 458/1000 [00:22<00:26, 20.18it/s]\u001b[A\n",
      "Training Progress:  46%|████████████████████████████                                 | 461/1000 [00:22<00:27, 19.57it/s]\u001b[A\n",
      "Training Progress:  46%|████████████████████████████▎                                | 464/1000 [00:22<00:26, 20.22it/s]\u001b[A\n",
      "Training Progress:  47%|████████████████████████████▍                                | 467/1000 [00:22<00:25, 20.68it/s]\u001b[A\n",
      "Training Progress:  47%|████████████████████████████▋                                | 470/1000 [00:22<00:24, 21.23it/s]\u001b[A\n",
      "Training Progress:  47%|████████████████████████████▊                                | 473/1000 [00:23<00:24, 21.61it/s]\u001b[A\n",
      "Training Progress:  48%|█████████████████████████████                                | 476/1000 [00:23<00:23, 21.85it/s]\u001b[A\n",
      "Training Progress:  48%|█████████████████████████████▏                               | 479/1000 [00:23<00:25, 20.78it/s]\u001b[A\n",
      "Training Progress:  48%|█████████████████████████████▍                               | 482/1000 [00:23<00:24, 21.09it/s]\u001b[A\n",
      "Training Progress:  48%|█████████████████████████████▌                               | 485/1000 [00:23<00:24, 21.07it/s]\u001b[A\n",
      "Training Progress:  49%|█████████████████████████████▊                               | 488/1000 [00:23<00:24, 21.01it/s]\u001b[A\n",
      "Training Progress:  49%|█████████████████████████████▉                               | 491/1000 [00:24<00:28, 17.65it/s]\u001b[A\n",
      "Training Progress:  49%|██████████████████████████████                               | 493/1000 [00:24<00:31, 16.16it/s]\u001b[A\n",
      "Training Progress:  50%|██████████████████████████████▏                              | 495/1000 [00:24<00:33, 15.20it/s]\u001b[A\n",
      "Training Progress:  50%|██████████████████████████████▎                              | 497/1000 [00:24<00:34, 14.43it/s]\u001b[A\n",
      "Training Progress:  50%|██████████████████████████████▍                              | 499/1000 [00:24<00:32, 15.29it/s]\u001b[A\n",
      "Training Progress:  50%|██████████████████████████████▌                              | 502/1000 [00:24<00:29, 16.99it/s]\u001b[A\n",
      "Training Progress:  50%|██████████████████████████████▊                              | 505/1000 [00:24<00:26, 18.59it/s]\u001b[A\n",
      "Training Progress:  51%|██████████████████████████████▉                              | 508/1000 [00:25<00:24, 19.82it/s]\u001b[A\n",
      "Training Progress:  51%|███████████████████████████████▏                             | 511/1000 [00:25<00:23, 20.42it/s]\u001b[A\n",
      "Training Progress:  51%|███████████████████████████████▎                             | 514/1000 [00:25<00:23, 21.09it/s]\u001b[A\n",
      "Training Progress:  52%|███████████████████████████████▌                             | 517/1000 [00:25<00:22, 21.61it/s]\u001b[A\n",
      "Training Progress:  52%|███████████████████████████████▋                             | 520/1000 [00:25<00:21, 21.95it/s]\u001b[A\n",
      "Training Progress:  52%|███████████████████████████████▉                             | 523/1000 [00:25<00:21, 22.07it/s]\u001b[A\n",
      "Training Progress:  53%|████████████████████████████████                             | 526/1000 [00:25<00:21, 22.14it/s]\u001b[A\n",
      "Training Progress:  53%|████████████████████████████████▎                            | 529/1000 [00:26<00:21, 22.18it/s]\u001b[A\n",
      "Training Progress:  53%|████████████████████████████████▍                            | 532/1000 [00:26<00:21, 22.07it/s]\u001b[A\n",
      "Training Progress:  54%|████████████████████████████████▋                            | 535/1000 [00:26<00:21, 21.63it/s]\u001b[A\n",
      "Training Progress:  54%|████████████████████████████████▊                            | 538/1000 [00:26<00:22, 20.58it/s]\u001b[A\n",
      "Training Progress:  54%|█████████████████████████████████                            | 541/1000 [00:26<00:22, 20.69it/s]\u001b[A\n",
      "Training Progress:  54%|█████████████████████████████████▏                           | 544/1000 [00:26<00:21, 21.14it/s]\u001b[A\n",
      "Training Progress:  55%|█████████████████████████████████▎                           | 547/1000 [00:26<00:21, 21.36it/s]\u001b[A\n",
      "Training Progress:  55%|█████████████████████████████████▌                           | 550/1000 [00:26<00:20, 21.56it/s]\u001b[A\n",
      "Training Progress:  55%|█████████████████████████████████▋                           | 553/1000 [00:27<00:20, 21.75it/s]\u001b[A\n",
      "Training Progress:  56%|█████████████████████████████████▉                           | 556/1000 [00:27<00:21, 20.85it/s]\u001b[A\n",
      "Training Progress:  56%|██████████████████████████████████                           | 559/1000 [00:27<00:20, 21.25it/s]\u001b[A\n",
      "Training Progress:  56%|██████████████████████████████████▎                          | 562/1000 [00:27<00:20, 21.36it/s]\u001b[A\n",
      "Training Progress:  56%|██████████████████████████████████▍                          | 565/1000 [00:27<00:20, 21.44it/s]\u001b[A\n",
      "Training Progress:  57%|██████████████████████████████████▋                          | 568/1000 [00:27<00:20, 21.59it/s]\u001b[A\n",
      "Training Progress:  57%|██████████████████████████████████▊                          | 571/1000 [00:27<00:20, 21.28it/s]\u001b[A\n",
      "Training Progress:  57%|███████████████████████████████████                          | 574/1000 [00:28<00:19, 21.44it/s]\u001b[A\n",
      "Training Progress:  58%|███████████████████████████████████▏                         | 577/1000 [00:28<00:19, 21.27it/s]\u001b[A\n",
      "Training Progress:  58%|███████████████████████████████████▍                         | 580/1000 [00:28<00:19, 21.50it/s]\u001b[A\n",
      "Training Progress:  58%|███████████████████████████████████▌                         | 583/1000 [00:28<00:19, 21.64it/s]\u001b[A\n",
      "Training Progress:  59%|███████████████████████████████████▋                         | 586/1000 [00:28<00:18, 21.94it/s]\u001b[A\n",
      "Training Progress:  59%|███████████████████████████████████▉                         | 589/1000 [00:28<00:20, 19.83it/s]\u001b[A\n",
      "Training Progress:  59%|████████████████████████████████████                         | 592/1000 [00:28<00:20, 20.39it/s]\u001b[A\n",
      "Training Progress:  60%|████████████████████████████████████▎                        | 595/1000 [00:29<00:19, 20.69it/s]\u001b[A\n",
      "Training Progress:  60%|████████████████████████████████████▍                        | 598/1000 [00:29<00:19, 20.97it/s]\u001b[A\n",
      "Training Progress:  60%|████████████████████████████████████▋                        | 601/1000 [00:29<00:18, 21.27it/s]\u001b[A\n",
      "Training Progress:  60%|████████████████████████████████████▊                        | 604/1000 [00:29<00:18, 21.59it/s]\u001b[A\n",
      "Training Progress:  61%|█████████████████████████████████████                        | 607/1000 [00:29<00:17, 21.86it/s]\u001b[A\n",
      "Training Progress:  61%|█████████████████████████████████████▏                       | 610/1000 [00:29<00:17, 21.70it/s]\u001b[A\n",
      "Training Progress:  61%|█████████████████████████████████████▍                       | 613/1000 [00:30<00:20, 19.01it/s]\u001b[A\n",
      "Training Progress:  62%|█████████████████████████████████████▌                       | 615/1000 [00:30<00:21, 17.93it/s]\u001b[A\n",
      "Training Progress:  62%|█████████████████████████████████████▋                       | 617/1000 [00:30<00:22, 17.23it/s]\u001b[A\n",
      "Training Progress:  62%|█████████████████████████████████████▊                       | 619/1000 [00:30<00:21, 17.61it/s]\u001b[A\n",
      "Training Progress:  62%|█████████████████████████████████████▉                       | 622/1000 [00:30<00:19, 19.10it/s]\u001b[A\n",
      "Training Progress:  62%|██████████████████████████████████████▏                      | 625/1000 [00:30<00:18, 19.93it/s]\u001b[A\n",
      "Training Progress:  63%|██████████████████████████████████████▎                      | 628/1000 [00:30<00:18, 20.38it/s]\u001b[A\n",
      "Training Progress:  63%|██████████████████████████████████████▍                      | 631/1000 [00:30<00:18, 20.48it/s]\u001b[A\n",
      "Training Progress:  63%|██████████████████████████████████████▋                      | 634/1000 [00:31<00:21, 17.25it/s]\u001b[A\n",
      "Training Progress:  64%|██████████████████████████████████████▊                      | 636/1000 [00:31<00:21, 16.59it/s]\u001b[A\n",
      "Training Progress:  64%|██████████████████████████████████████▉                      | 638/1000 [00:31<00:21, 16.84it/s]\u001b[A\n",
      "Training Progress:  64%|███████████████████████████████████████                      | 641/1000 [00:31<00:19, 18.54it/s]\u001b[A\n",
      "Training Progress:  64%|███████████████████████████████████████▏                     | 643/1000 [00:31<00:19, 18.47it/s]\u001b[A\n",
      "Training Progress:  64%|███████████████████████████████████████▎                     | 645/1000 [00:31<00:19, 18.28it/s]\u001b[A\n",
      "Training Progress:  65%|███████████████████████████████████████▌                     | 648/1000 [00:31<00:19, 18.10it/s]\u001b[A\n",
      "Training Progress:  65%|███████████████████████████████████████▋                     | 650/1000 [00:32<00:19, 17.79it/s]\u001b[A\n",
      "Training Progress:  65%|███████████████████████████████████████▊                     | 652/1000 [00:32<00:19, 18.12it/s]\u001b[A\n",
      "Training Progress:  65%|███████████████████████████████████████▉                     | 654/1000 [00:32<00:18, 18.24it/s]\u001b[A\n",
      "Training Progress:  66%|████████████████████████████████████████                     | 657/1000 [00:32<00:17, 19.19it/s]\u001b[A\n",
      "Training Progress:  66%|████████████████████████████████████████▎                    | 660/1000 [00:32<00:16, 20.35it/s]\u001b[A\n",
      "Training Progress:  66%|████████████████████████████████████████▍                    | 663/1000 [00:32<00:16, 20.86it/s]\u001b[A\n",
      "Training Progress:  67%|████████████████████████████████████████▋                    | 666/1000 [00:32<00:15, 21.31it/s]\u001b[A\n",
      "Training Progress:  67%|████████████████████████████████████████▊                    | 669/1000 [00:32<00:15, 21.67it/s]\u001b[A\n",
      "Training Progress:  67%|████████████████████████████████████████▉                    | 672/1000 [00:33<00:14, 21.88it/s]\u001b[A\n",
      "Training Progress:  68%|█████████████████████████████████████████▏                   | 675/1000 [00:33<00:14, 22.18it/s]\u001b[A\n",
      "Training Progress:  68%|█████████████████████████████████████████▎                   | 678/1000 [00:33<00:14, 22.23it/s]\u001b[A\n",
      "Training Progress:  68%|█████████████████████████████████████████▌                   | 681/1000 [00:33<00:14, 22.30it/s]\u001b[A\n",
      "Training Progress:  68%|█████████████████████████████████████████▋                   | 684/1000 [00:33<00:14, 22.16it/s]\u001b[A\n",
      "Training Progress:  69%|█████████████████████████████████████████▉                   | 687/1000 [00:33<00:14, 22.10it/s]\u001b[A\n",
      "Training Progress:  69%|██████████████████████████████████████████                   | 690/1000 [00:33<00:14, 21.53it/s]\u001b[A\n",
      "Training Progress:  69%|██████████████████████████████████████████▎                  | 693/1000 [00:34<00:14, 21.53it/s]\u001b[A\n",
      "Training Progress:  70%|██████████████████████████████████████████▍                  | 696/1000 [00:34<00:14, 20.87it/s]\u001b[A\n",
      "Training Progress:  70%|██████████████████████████████████████████▋                  | 699/1000 [00:34<00:14, 21.03it/s]\u001b[A\n",
      "Training Progress:  70%|██████████████████████████████████████████▊                  | 702/1000 [00:34<00:13, 21.29it/s]\u001b[A\n",
      "Training Progress:  70%|███████████████████████████████████████████                  | 705/1000 [00:34<00:13, 21.76it/s]\u001b[A\n",
      "Training Progress:  71%|███████████████████████████████████████████▏                 | 708/1000 [00:34<00:13, 21.28it/s]\u001b[A\n",
      "Training Progress:  71%|███████████████████████████████████████████▎                 | 711/1000 [00:34<00:16, 17.77it/s]\u001b[A\n",
      "Training Progress:  71%|███████████████████████████████████████████▍                 | 713/1000 [00:35<00:15, 18.07it/s]\u001b[A\n",
      "Training Progress:  72%|███████████████████████████████████████████▋                 | 716/1000 [00:35<00:14, 19.13it/s]\u001b[A\n",
      "Training Progress:  72%|███████████████████████████████████████████▊                 | 719/1000 [00:35<00:14, 19.75it/s]\u001b[A\n",
      "Training Progress:  72%|████████████████████████████████████████████                 | 722/1000 [00:35<00:13, 20.62it/s]\u001b[A\n",
      "Training Progress:  72%|████████████████████████████████████████████▏                | 725/1000 [00:35<00:12, 21.29it/s]\u001b[A\n",
      "Training Progress:  73%|████████████████████████████████████████████▍                | 728/1000 [00:35<00:12, 21.73it/s]\u001b[A\n",
      "Training Progress:  73%|████████████████████████████████████████████▌                | 731/1000 [00:35<00:12, 20.94it/s]\u001b[A\n",
      "Training Progress:  73%|████████████████████████████████████████████▊                | 734/1000 [00:36<00:12, 20.65it/s]\u001b[A\n",
      "Training Progress:  74%|████████████████████████████████████████████▉                | 737/1000 [00:36<00:12, 21.23it/s]\u001b[A\n",
      "Training Progress:  74%|█████████████████████████████████████████████▏               | 740/1000 [00:36<00:11, 21.73it/s]\u001b[A\n",
      "Training Progress:  74%|█████████████████████████████████████████████▎               | 743/1000 [00:36<00:12, 21.30it/s]\u001b[A\n",
      "Training Progress:  75%|█████████████████████████████████████████████▌               | 746/1000 [00:36<00:11, 21.72it/s]\u001b[A\n",
      "Training Progress:  75%|█████████████████████████████████████████████▋               | 749/1000 [00:36<00:12, 20.79it/s]\u001b[A\n",
      "Training Progress:  75%|█████████████████████████████████████████████▊               | 752/1000 [00:36<00:12, 19.24it/s]\u001b[A\n",
      "Training Progress:  76%|██████████████████████████████████████████████               | 755/1000 [00:37<00:12, 20.20it/s]\u001b[A\n",
      "Training Progress:  76%|██████████████████████████████████████████████▏              | 758/1000 [00:37<00:11, 20.20it/s]\u001b[A\n",
      "Training Progress:  76%|██████████████████████████████████████████████▍              | 761/1000 [00:37<00:11, 20.07it/s]\u001b[A\n",
      "Training Progress:  76%|██████████████████████████████████████████████▌              | 764/1000 [00:37<00:11, 19.98it/s]\u001b[A\n",
      "Training Progress:  77%|██████████████████████████████████████████████▊              | 767/1000 [00:37<00:11, 20.77it/s]\u001b[A\n",
      "Training Progress:  77%|██████████████████████████████████████████████▉              | 770/1000 [00:37<00:10, 21.30it/s]\u001b[A\n",
      "Training Progress:  77%|███████████████████████████████████████████████▏             | 773/1000 [00:38<00:11, 18.92it/s]\u001b[A\n",
      "Training Progress:  78%|███████████████████████████████████████████████▎             | 776/1000 [00:38<00:11, 19.95it/s]\u001b[A\n",
      "Training Progress:  78%|███████████████████████████████████████████████▌             | 779/1000 [00:38<00:11, 18.64it/s]\u001b[A\n",
      "Training Progress:  78%|███████████████████████████████████████████████▋             | 782/1000 [00:38<00:11, 19.41it/s]\u001b[A\n",
      "Training Progress:  78%|███████████████████████████████████████████████▉             | 785/1000 [00:38<00:10, 20.04it/s]\u001b[A\n",
      "Training Progress:  79%|████████████████████████████████████████████████             | 788/1000 [00:38<00:10, 19.70it/s]\u001b[A\n",
      "Training Progress:  79%|████████████████████████████████████████████████▎            | 791/1000 [00:38<00:10, 20.56it/s]\u001b[A\n",
      "Training Progress:  79%|████████████████████████████████████████████████▍            | 794/1000 [00:39<00:10, 20.22it/s]\u001b[A\n",
      "Training Progress:  80%|████████████████████████████████████████████████▌            | 797/1000 [00:39<00:09, 20.91it/s]\u001b[A\n",
      "Training Progress:  80%|████████████████████████████████████████████████▊            | 800/1000 [00:39<00:09, 21.30it/s]\u001b[A\n",
      "Training Progress:  80%|████████████████████████████████████████████████▉            | 803/1000 [00:39<00:11, 17.58it/s]\u001b[A\n",
      "Training Progress:  80%|█████████████████████████████████████████████████            | 805/1000 [00:39<00:11, 16.46it/s]\u001b[A\n",
      "Training Progress:  81%|█████████████████████████████████████████████████▏           | 807/1000 [00:39<00:12, 15.84it/s]\u001b[A\n",
      "Training Progress:  81%|█████████████████████████████████████████████████▎           | 809/1000 [00:39<00:11, 16.17it/s]\u001b[A\n",
      "Training Progress:  81%|█████████████████████████████████████████████████▍           | 811/1000 [00:40<00:12, 15.09it/s]\u001b[A\n",
      "Training Progress:  81%|█████████████████████████████████████████████████▌           | 813/1000 [00:40<00:12, 15.54it/s]\u001b[A\n",
      "Training Progress:  82%|█████████████████████████████████████████████████▊           | 816/1000 [00:40<00:10, 17.63it/s]\u001b[A\n",
      "Training Progress:  82%|█████████████████████████████████████████████████▉           | 819/1000 [00:40<00:09, 18.83it/s]\u001b[A\n",
      "Training Progress:  82%|██████████████████████████████████████████████████▏          | 822/1000 [00:40<00:08, 19.91it/s]\u001b[A\n",
      "Training Progress:  82%|██████████████████████████████████████████████████▎          | 825/1000 [00:40<00:08, 20.77it/s]\u001b[A\n",
      "Training Progress:  83%|██████████████████████████████████████████████████▌          | 828/1000 [00:40<00:08, 21.42it/s]\u001b[A\n",
      "Training Progress:  83%|██████████████████████████████████████████████████▋          | 831/1000 [00:41<00:07, 21.82it/s]\u001b[A\n",
      "Training Progress:  83%|██████████████████████████████████████████████████▊          | 834/1000 [00:41<00:07, 22.12it/s]\u001b[A\n",
      "Training Progress:  84%|███████████████████████████████████████████████████          | 837/1000 [00:41<00:07, 22.15it/s]\u001b[A\n",
      "Training Progress:  84%|███████████████████████████████████████████████████▏         | 840/1000 [00:41<00:08, 18.22it/s]\u001b[A\n",
      "Training Progress:  84%|███████████████████████████████████████████████████▍         | 843/1000 [00:41<00:08, 19.09it/s]\u001b[A\n",
      "Training Progress:  85%|███████████████████████████████████████████████████▌         | 846/1000 [00:41<00:09, 16.78it/s]\u001b[A\n",
      "Training Progress:  85%|███████████████████████████████████████████████████▋         | 848/1000 [00:42<00:09, 15.36it/s]\u001b[A\n",
      "Training Progress:  85%|███████████████████████████████████████████████████▊         | 850/1000 [00:42<00:09, 16.03it/s]\u001b[A\n",
      "Training Progress:  85%|████████████████████████████████████████████████████         | 853/1000 [00:42<00:08, 17.85it/s]\u001b[A\n",
      "Training Progress:  86%|████████████████████████████████████████████████████▏        | 856/1000 [00:42<00:07, 19.24it/s]\u001b[A\n",
      "Training Progress:  86%|████████████████████████████████████████████████████▍        | 859/1000 [00:42<00:07, 18.82it/s]\u001b[A\n",
      "Training Progress:  86%|████████████████████████████████████████████████████▌        | 861/1000 [00:42<00:07, 17.57it/s]\u001b[A\n",
      "Training Progress:  86%|████████████████████████████████████████████████████▋        | 864/1000 [00:42<00:07, 18.76it/s]\u001b[A\n",
      "Training Progress:  87%|████████████████████████████████████████████████████▉        | 867/1000 [00:43<00:06, 19.79it/s]\u001b[A\n",
      "Training Progress:  87%|█████████████████████████████████████████████████████        | 870/1000 [00:43<00:06, 20.59it/s]\u001b[A\n",
      "Training Progress:  87%|█████████████████████████████████████████████████████▎       | 873/1000 [00:43<00:06, 20.97it/s]\u001b[A\n",
      "Training Progress:  88%|█████████████████████████████████████████████████████▍       | 876/1000 [00:43<00:06, 20.33it/s]\u001b[A\n",
      "Training Progress:  88%|█████████████████████████████████████████████████████▌       | 879/1000 [00:43<00:05, 20.82it/s]\u001b[A\n",
      "Training Progress:  88%|█████████████████████████████████████████████████████▊       | 882/1000 [00:43<00:05, 21.03it/s]\u001b[A\n",
      "Training Progress:  88%|█████████████████████████████████████████████████████▉       | 885/1000 [00:43<00:05, 21.46it/s]\u001b[A\n",
      "Training Progress:  89%|██████████████████████████████████████████████████████▏      | 888/1000 [00:44<00:05, 19.64it/s]\u001b[A\n",
      "Training Progress:  89%|██████████████████████████████████████████████████████▎      | 891/1000 [00:44<00:05, 20.37it/s]\u001b[A\n",
      "Training Progress:  89%|██████████████████████████████████████████████████████▌      | 894/1000 [00:44<00:05, 20.12it/s]\u001b[A\n",
      "Training Progress:  90%|██████████████████████████████████████████████████████▋      | 897/1000 [00:44<00:04, 20.61it/s]\u001b[A\n",
      "Training Progress:  90%|██████████████████████████████████████████████████████▉      | 900/1000 [00:44<00:04, 20.71it/s]\u001b[A\n",
      "Training Progress:  90%|███████████████████████████████████████████████████████      | 903/1000 [00:44<00:04, 21.10it/s]\u001b[A\n",
      "Training Progress:  91%|███████████████████████████████████████████████████████▎     | 906/1000 [00:44<00:04, 18.86it/s]\u001b[A\n",
      "Training Progress:  91%|███████████████████████████████████████████████████████▍     | 908/1000 [00:45<00:04, 18.51it/s]\u001b[A\n",
      "Training Progress:  91%|███████████████████████████████████████████████████████▌     | 911/1000 [00:45<00:04, 19.69it/s]\u001b[A\n",
      "Training Progress:  91%|███████████████████████████████████████████████████████▋     | 913/1000 [00:45<00:04, 19.32it/s]\u001b[A\n",
      "Training Progress:  92%|███████████████████████████████████████████████████████▉     | 916/1000 [00:45<00:04, 20.14it/s]\u001b[A\n",
      "Training Progress:  92%|████████████████████████████████████████████████████████     | 919/1000 [00:45<00:03, 20.53it/s]\u001b[A\n",
      "Training Progress:  92%|████████████████████████████████████████████████████████▏    | 922/1000 [00:45<00:03, 20.89it/s]\u001b[A\n",
      "Training Progress:  92%|████████████████████████████████████████████████████████▍    | 925/1000 [00:45<00:03, 20.54it/s]\u001b[A\n",
      "Training Progress:  93%|████████████████████████████████████████████████████████▌    | 928/1000 [00:46<00:03, 20.68it/s]\u001b[A\n",
      "Training Progress:  93%|████████████████████████████████████████████████████████▊    | 931/1000 [00:46<00:03, 21.25it/s]\u001b[A\n",
      "Training Progress:  93%|████████████████████████████████████████████████████████▉    | 934/1000 [00:46<00:03, 21.62it/s]\u001b[A\n",
      "Training Progress:  94%|█████████████████████████████████████████████████████████▏   | 937/1000 [00:46<00:02, 21.97it/s]\u001b[A\n",
      "Training Progress:  94%|█████████████████████████████████████████████████████████▎   | 940/1000 [00:46<00:02, 22.00it/s]\u001b[A\n",
      "Training Progress:  94%|█████████████████████████████████████████████████████████▌   | 943/1000 [00:46<00:02, 22.05it/s]\u001b[A\n",
      "Training Progress:  95%|█████████████████████████████████████████████████████████▋   | 946/1000 [00:46<00:02, 22.08it/s]\u001b[A\n",
      "Training Progress:  95%|█████████████████████████████████████████████████████████▉   | 949/1000 [00:46<00:02, 22.09it/s]\u001b[A\n",
      "Training Progress:  95%|██████████████████████████████████████████████████████████   | 952/1000 [00:47<00:02, 22.30it/s]\u001b[A\n",
      "Training Progress:  96%|██████████████████████████████████████████████████████████▎  | 955/1000 [00:47<00:02, 22.42it/s]\u001b[A\n",
      "Training Progress:  96%|██████████████████████████████████████████████████████████▍  | 958/1000 [00:47<00:01, 22.54it/s]\u001b[A\n",
      "Training Progress:  96%|██████████████████████████████████████████████████████████▌  | 961/1000 [00:47<00:01, 20.71it/s]\u001b[A\n",
      "Training Progress:  96%|██████████████████████████████████████████████████████████▊  | 964/1000 [00:47<00:01, 20.65it/s]\u001b[A\n",
      "Training Progress:  97%|██████████████████████████████████████████████████████████▉  | 967/1000 [00:47<00:01, 21.27it/s]\u001b[A\n",
      "Training Progress:  97%|███████████████████████████████████████████████████████████▏ | 970/1000 [00:47<00:01, 21.79it/s]\u001b[A\n",
      "Training Progress:  97%|███████████████████████████████████████████████████████████▎ | 973/1000 [00:48<00:01, 22.10it/s]\u001b[A\n",
      "Training Progress:  98%|███████████████████████████████████████████████████████████▌ | 976/1000 [00:48<00:01, 22.35it/s]\u001b[A\n",
      "Training Progress:  98%|███████████████████████████████████████████████████████████▋ | 979/1000 [00:48<00:00, 22.51it/s]\u001b[A\n",
      "Training Progress:  98%|███████████████████████████████████████████████████████████▉ | 982/1000 [00:48<00:00, 22.69it/s]\u001b[A\n",
      "Training Progress:  98%|████████████████████████████████████████████████████████████ | 985/1000 [00:48<00:00, 22.64it/s]\u001b[A\n",
      "Training Progress:  99%|████████████████████████████████████████████████████████████▎| 988/1000 [00:48<00:00, 22.61it/s]\u001b[A\n",
      "Training Progress:  99%|████████████████████████████████████████████████████████████▍| 991/1000 [00:48<00:00, 20.27it/s]\u001b[A\n",
      "Training Progress:  99%|████████████████████████████████████████████████████████████▋| 994/1000 [00:49<00:00, 20.91it/s]\u001b[A\n",
      "Training Progress: 100%|████████████████████████████████████████████████████████████▊| 997/1000 [00:49<00:00, 21.42it/s]\u001b[A\n",
      "Training Progress: 100%|████████████████████████████████████████████████████████████| 1000/1000 [00:49<00:00, 20.27it/s]\u001b[A\n"
     ]
    },
    {
     "name": "stdout",
     "output_type": "stream",
     "text": [
      "Partial Accuracy for SVM: 0.36\n",
      "Partial Balanced Accuracy for SVM: 0.3745122610447688\n"
     ]
    },
    {
     "name": "stderr",
     "output_type": "stream",
     "text": [
      "Training Progress: 100%|████████████████████████████████████████████████████████████| 1000/1000 [00:46<00:00, 21.44it/s]\n"
     ]
    },
    {
     "name": "stdout",
     "output_type": "stream",
     "text": [
      "Partial Accuracy for SVM: 0.36\n",
      "Partial Balanced Accuracy for SVM: 0.37867708486903534\n"
     ]
    },
    {
     "name": "stderr",
     "output_type": "stream",
     "text": [
      "Training Progress: 100%|████████████████████████████████████████████████████████████| 1000/1000 [00:46<00:00, 21.45it/s]\n"
     ]
    },
    {
     "name": "stdout",
     "output_type": "stream",
     "text": [
      "Partial Accuracy for SVM: 0.39\n",
      "Partial Balanced Accuracy for SVM: 0.41102019755270525\n"
     ]
    },
    {
     "name": "stderr",
     "output_type": "stream",
     "text": [
      "Training Progress: 100%|████████████████████████████████████████████████████████████| 1000/1000 [00:49<00:00, 20.25it/s]\n"
     ]
    },
    {
     "name": "stdout",
     "output_type": "stream",
     "text": [
      "Partial Accuracy for SVM: 0.39\n",
      "Partial Balanced Accuracy for SVM: 0.41569856012580475\n"
     ]
    },
    {
     "name": "stderr",
     "output_type": "stream",
     "text": [
      "Training Progress: 100%|████████████████████████████████████████████████████████████| 1000/1000 [00:49<00:00, 20.20it/s]\n"
     ]
    },
    {
     "name": "stdout",
     "output_type": "stream",
     "text": [
      "Partial Accuracy for SVM: 0.44\n",
      "Partial Balanced Accuracy for SVM: 0.45563172637476046\n"
     ]
    },
    {
     "name": "stderr",
     "output_type": "stream",
     "text": [
      "Training Progress: 100%|████████████████████████████████████████████████████████████| 1000/1000 [00:45<00:00, 21.93it/s]\n"
     ]
    },
    {
     "name": "stdout",
     "output_type": "stream",
     "text": [
      "Partial Accuracy for SVM: 0.41\n",
      "Partial Balanced Accuracy for SVM: 0.43348076072534275\n"
     ]
    },
    {
     "name": "stderr",
     "output_type": "stream",
     "text": [
      "Training Progress: 100%|████████████████████████████████████████████████████████████| 1000/1000 [00:47<00:00, 21.03it/s]\n"
     ]
    },
    {
     "name": "stdout",
     "output_type": "stream",
     "text": [
      "Partial Accuracy for SVM: 0.38\n",
      "Partial Balanced Accuracy for SVM: 0.4045874490146935\n"
     ]
    },
    {
     "name": "stderr",
     "output_type": "stream",
     "text": [
      "Training Progress: 100%|████████████████████████████████████████████████████████████| 1000/1000 [00:48<00:00, 20.76it/s]\n"
     ]
    },
    {
     "name": "stdout",
     "output_type": "stream",
     "text": [
      "Partial Accuracy for SVM: 0.37\n",
      "Partial Balanced Accuracy for SVM: 0.4004938817632316\n"
     ]
    },
    {
     "name": "stderr",
     "output_type": "stream",
     "text": [
      "Training Progress: 100%|████████████████████████████████████████████████████████████| 1000/1000 [00:42<00:00, 23.49it/s]\n"
     ]
    },
    {
     "name": "stdout",
     "output_type": "stream",
     "text": [
      "Partial Accuracy for SVM: 0.4\n",
      "Partial Balanced Accuracy for SVM: 0.4229249594574673\n"
     ]
    },
    {
     "name": "stderr",
     "output_type": "stream",
     "text": [
      "Training Progress: 100%|████████████████████████████████████████████████████████████| 1000/1000 [00:45<00:00, 21.94it/s]\n"
     ]
    },
    {
     "name": "stdout",
     "output_type": "stream",
     "text": [
      "Partial Accuracy for SVM: 0.37\n",
      "Partial Balanced Accuracy for SVM: 0.390343505823382\n"
     ]
    },
    {
     "name": "stderr",
     "output_type": "stream",
     "text": [
      "Training Progress: 1000it [00:43, 23.05it/s]                                                                            "
     ]
    },
    {
     "name": "stdout",
     "output_type": "stream",
     "text": [
      "Partial Accuracy for SVM: 0.37\n",
      "Partial Balanced Accuracy for SVM: 0.39034350582338195\n"
     ]
    },
    {
     "name": "stderr",
     "output_type": "stream",
     "text": [
      "\n"
     ]
    }
   ],
   "source": [
    "total_iterations = len(X_train)\n",
    "batch_size = 1000\n",
    "model_svc = SVC(decision_function_shape='ovr', C=10, kernel='rbf')\n",
    "\n",
    "# Iterate over the training set in batches\n",
    "for i in range(0, total_iterations, batch_size):\n",
    "    X_batch = X_train[i:i+batch_size]\n",
    "    Y_batch = y_train[i:i+batch_size]\n",
    "    \n",
    "    progress_bar = tqdm(total=len(X_batch), desc=\"Training Progress\")\n",
    "    progress_bar.reset()\n",
    "    \n",
    "    for _ in range(batch_size):\n",
    "        # Update the progress bar\n",
    "        progress_bar.update(1)\n",
    "\n",
    "        # Train on a single sample\n",
    "        model_svc.fit(X_batch, Y_batch)\n",
    "\n",
    "    partial_pred = model_svc.predict(X_test[:100])\n",
    "    partial_acc = accuracy_score(y_test[:100], partial_pred)\n",
    "    partial_balanced = balanced_accuracy_score(y_test[:100], partial_pred)\n",
    "    print('Partial Accuracy for SVM:', partial_acc)\n",
    "    print('Partial Balanced Accuracy for SVM:', partial_balanced)\n",
    "\n",
    "    # Close the progress bar\n",
    "    progress_bar.close()"
   ]
  },
  {
   "cell_type": "code",
   "execution_count": 10,
   "id": "e3748b2c",
   "metadata": {},
   "outputs": [
    {
     "name": "stdout",
     "output_type": "stream",
     "text": [
      "Accuracy for SVM: 0.43544857768052514\n",
      "Balanced Accuracy:0.4354199754143225\n"
     ]
    },
    {
     "data": {
      "image/png": "[encoded data removed]",
      "text/plain": [
       "<Figure size 432x288 with 2 Axes>"
      ]
     },
     "metadata": {
      "needs_background": "light"
     },
     "output_type": "display_data"
    },
    {
     "data": {
      "text/plain": [
       "<Figure size 576x432 with 0 Axes>"
      ]
     },
     "metadata": {},
     "output_type": "display_data"
    }
   ],
   "source": [
    "pred = model_svc.predict(X_test)\n",
    "acc = accuracy_score(y_test, pred)\n",
    "print('Accuracy for SVM: ' + str(acc))\n",
    "balanced_svm = balanced_accuracy_score(y_test, pred)  # Calculate balanced accuracy\n",
    "print(\"Balanced Accuracy:\"+ str(balanced_svm))\n",
    "# Confusion Matrix\n",
    "cm = confusion_matrix(y_test, pred)\n",
    "disp = ConfusionMatrixDisplay(confusion_matrix=cm,display_labels=classes )\n",
    "disp.plot()\n",
    "plt.figure(figsize=(8, 6))\n",
    "plt.show()"
   ]
  },
  {
   "cell_type": "code",
   "execution_count": null,
   "id": "45f5746e",
   "metadata": {},
   "outputs": [],
   "source": []
  }
 ],
 "metadata": {
  "kernelspec": {
   "display_name": "Python 3 (ipykernel)",
   "language": "python",
   "name": "python3"
  },
  "language_info": {
   "codemirror_mode": {
    "name": "ipython",
    "version": 3
   },
   "file_extension": ".py",
   "mimetype": "text/x-python",
   "name": "python",
   "nbconvert_exporter": "python",
   "pygments_lexer": "ipython3",
   "version": "3.10.10"
  }
 },
 "nbformat": 4,
 "nbformat_minor": 5
}
